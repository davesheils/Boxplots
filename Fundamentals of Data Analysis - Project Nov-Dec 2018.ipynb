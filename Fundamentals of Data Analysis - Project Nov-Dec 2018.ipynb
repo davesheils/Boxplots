{
 "cells": [
  {
   "cell_type": "markdown",
   "metadata": {},
   "source": [
    "# Fundamentals of Data Analysis\n",
    "\n",
    "\n",
    "## Boxplots Project - November 2018\n",
    "\n",
    "\n",
    "### Problem Statement:\n",
    "\n",
    "The box plot is common in data analysis for investigating individual numerical variables. In this project, you will investigate and explain box plots and their uses.  The **boxplot** function from the Python package **matplotlib.pyplot** can be used to create box plots. Your submission should be in the form of a repository containing a Jupyter notebook in which you detail your findings.  In your notebook, you should:\n",
    "\n",
    "• Summarise the history of the box plot and situations in which it used.\n",
    "\n",
    "• Demonstrate the use of the box plot using data of your choosing.\n",
    "\n",
    "• Explain any relevant terminology such as the terms quartile and percentile.\n",
    "\n",
    "• Compare the box plot to alternatives."
   ]
  },
  {
   "cell_type": "markdown",
   "metadata": {},
   "source": [
    "## Summarise the history of the box plot and situations in which it used.\n",
    "\n",
    "**Description**\n",
    "\n",
    "In descriptive statistics, a box plot or boxplot is a method for graphically depicting groups of numerical data through their quartiles. (wikipedia). The box plot consists of a rectangular box (representing the interquartile range of values) and two \"whiskers\", i.e. lines extending to indicate the range of values below or above the interquartile range (which may or may not include values considered to be outliers).The box itself is divided by a line indicating the median.\n",
    "\n",
    "Although the basic form of the boxplot was established in the early 150s, the boxplot as used today was developed and made more widley known by John Tukey in a paper published in 1977. (OU, 2010; Stryjewski & Wickham, 2011).\n",
    "\n",
    "Box plots \"use robust summary statistics that are always located at actual data points, are quickly computable (originally by hand) [...] They are particularly useful for comparing distributions across groups\" (Stryjewski & Wickham, 2011).\n",
    "\n",
    "They can be used to identify outliers and show what their values are. They can also tell show if the data set your data is symmetrical or shewed and how tightly your data is grouped. (Galarnyk, 2018)\n",
    "\n",
    "\n",
    "The simplest form of a boxplot can be drawn manually as follows:\n",
    "\n",
    "1. Draw the axis, mark the scale and add an axis label. Add a title and the source of the data.\n",
    "2. Mark the five key summary values (minimum, Q1, median, Q3 and Maximum) with vertical lines\n",
    "3. Add the box and whiskers  and label the vertical lines with the five key summary values.\n",
    "\n",
    "(OU, 2010, Book D, p12)\n",
    "\n",
    "When calculating the following datasets manually, it is usual to write out the values in increasing order. However, this is obviously impractical for larger datasets. Therefore the next sections will demostrate the use of the library matplotlib.pyplot to draw boxplots.\n",
    "\n",
    "\n",
    "The matplotlib.pylot.boxplot will be explored in more detail below, however, the following python code will draw a simple boxplot using the sepal length variable of the iris dataset."
   ]
  },
  {
   "cell_type": "code",
   "execution_count": 2,
   "metadata": {},
   "outputs": [
    {
     "data": {
      "image/png": "[encoded data removed]",
      "text/plain": [
       "<matplotlib.figure.Figure at 0x10da21128>"
      ]
     },
     "metadata": {},
     "output_type": "display_data"
    }
   ],
   "source": [
    "# code to create a box plot will go here\n",
    "\n",
    "import numpy as np\n",
    "import matplotlib.pyplot as plt\n",
    "plt.rcParams['figure.figsize'] = [10, 7.5] # to set the default size of the output of pyplot\n",
    "import pandas as pd\n",
    "\n",
    "# create an pandas data frame called Iris\n",
    "\n",
    "iris = pd.read_csv('iris.csv') \n",
    "\n",
    "# create a boxplot from the sepal length column in the dataset.\n",
    "\n",
    "plt.boxplot(iris['sepal_length'], vert = False) \n",
    "\n",
    "plt.xlabel(\"Iris Dataset - Sepal Length\")\n",
    "plt.title(\"Simple boxplot - 1\")\n",
    "\n",
    "plt.show()"
   ]
  },
  {
   "cell_type": "markdown",
   "metadata": {},
   "source": [
    "The whiskers can be indicate either the maximum or minimum values of the dataset. More usually, the whiskers will indicate that the lowest datum still within 1.5 IQR of the lower quartile, and the highest datum still within 1.5 IQR of the upper quartile (often called the Tukey boxplot). This is the default setting for the whiskers in the pybolt.boxplot function. Other variations may be to set the whiskers at the 9th and 91st percentile (wikipedia). In these implementations, points beyond the reach of the whiskers are considered outliers and may be plotted seperately. The following code (using random samples from a normal distribution) shows outliers plotted beyond the boxplot whiskers:"
   ]
  },
  {
   "cell_type": "code",
   "execution_count": 3,
   "metadata": {},
   "outputs": [
    {
     "data": {
      "image/png": "[encoded data removed]",
      "text/plain": [
       "<matplotlib.figure.Figure at 0x10c4c54e0>"
      ]
     },
     "metadata": {},
     "output_type": "display_data"
    }
   ],
   "source": [
    "x = np.random.normal(0, 1, 1000)\n",
    "\n",
    "plt.boxplot(x, vert = False) \n",
    "\n",
    "plt.title(\"Simple boxplot\")\n",
    "plt.xlabel(\"Randomly generated values\")\n",
    "\n",
    "\n",
    "plt.show()"
   ]
  },
  {
   "cell_type": "markdown",
   "metadata": {},
   "source": [
    "## Further Investigations of the matplotlib.pyplot.boxplot function.\n",
    "\n",
    "\n",
    "This section will expand on the previous section. What is attempted here is to create a set of box plots to compare the petal lenghts of teh three species of iris from the iris dataset (or, more importantly, to demonstrate how boxplots may be used for this type of comparitive analysis).\n",
    "\n",
    "The boxplots will be horizontal with the key five points labelled. In addition, the whiskers are to stretch to the max and min values of each data set.\n",
    "\n",
    "This means the followign arguments must be set:\n",
    "\n",
    "vert = False\n",
    "whis = 'range'\n",
    "\n",
    "\n",
    "Demonstrate the use of the box plot using data of your choosing.\n",
    "\n",
    "Using the Iris dataset ....\n",
    "\n",
    "The role of the matplot.lib.pyplot.boxplot function is described as follows:\n",
    "\n",
    "\n",
    "matplotlib.pyplot.boxplot\n",
    "\n",
    "Also, how we will use the pandas.describe() function to print summary statistics that we can visualise using boxplots\n",
    "\n",
    "Explain the Matplotlib.boxplots\n",
    "\n",
    "Only one argument is mandatory, namely the range of data which you wish to visualise as a boxplot. The following code snippet (in addition to importing the libraries that will be used in this notebook) will create a simple box plot from the Sepal_Length variable in the Iris Dataset:\n",
    "\n",
    "matplotlib.pyplot.boxplot(x, notch=None, sym=None, vert=None, whis=None, positions=None, widths=None, patch_artist=None, bootstrap=None, usermedians=None, conf_intervals=None, meanline=None, showmeans=None, showcaps=None, showbox=None, showfliers=None, boxprops=None, labels=None, flierprops=None, medianprops=None, meanprops=None, capprops=None, whiskerprops=None, manage_xticks=True, autorange=False, zorder=None, *, data=None)\n",
    "\n",
    "create a box plot\n",
    "\n",
    "drawing multiple box plots\n",
    "** positions : array-like, optional**\n",
    "\n",
    "**    Sets the positions of the boxes. The ticks and limits are automatically set to match the positions. Defaults to range(1, N+1) where N is the number of boxes to be drawn **\n",
    "\n",
    "\n",
    "\n",
    "# see examples here: https://matplotlib.org/gallery/statistics/boxplot_demo.html\n",
    "\n",
    "\n",
    "matplotlib.pyplot.boxplot(x, notch=None, sym=None, vert=None, whis=None, positions=None, widths=None, patch_artist=None, bootstrap=None, usermedians=None, conf_intervals=None, meanline=None, showmeans=None, showcaps=None, showbox=None, showfliers=None, boxprops=None, labels=None, flierprops=None, medianprops=None, meanprops=None, capprops=None, whiskerprops=None, manage_xticks=True, autorange=False, zorder=None, *, data=None)\n",
    "\n",
    "\n",
    "\n",
    "create a three labeled box plots to compare the petal length of the three classes of iris"
   ]
  },
  {
   "cell_type": "code",
   "execution_count": 26,
   "metadata": {},
   "outputs": [
    {
     "data": {
      "image/png": "[encoded data removed]",
      "text/plain": [
       "<matplotlib.figure.Figure at 0x118c34fd0>"
      ]
     },
     "metadata": {},
     "output_type": "display_data"
    }
   ],
   "source": [
    "# First break Iris dataset into three datasets\n",
    "versicolor = iris[iris['species'] == 'Iris-versicolor'] # select all rows from species where species == versicolor\n",
    "setosa = iris[iris['species'] == 'Iris-setosa'] # select all rows from species where species == versicolor\n",
    "virginica = iris[iris['species'] == 'Iris-virginica'] # select all rows from species where species == virginica\n",
    "virginica['petal_length']\n",
    "\n",
    "plots = plt.boxplot([versicolor['petal_length'] , setosa['petal_length']   , virginica['petal_length']  ], vert= False )\n",
    "# plt.boxplot(setosa['petal_length'], positions=[2,3], vert= False, whis='range')\n",
    "# plt.boxplot(virginica['petal_length'], vert= False, whis='range' )\n",
    "\n",
    "plt.legend()\n",
    "plt.title('Boxplots of Petal Lengths of Versicolor, Setosa and Virginica')\n",
    "plt.xlabel('Petal Length')\n",
    "plt.show()\n",
    "\n",
    "\n",
    "\n",
    "# https://matplotlib.org/gallery/statistics/boxplot_demo.html\n",
    "\n",
    "\n",
    "# Next steps:\n",
    "# make them horizontal - Done\n",
    "# label them with values\n",
    "\n",
    "# How to present them so they dont ovelap"
   ]
  },
  {
   "cell_type": "code",
   "execution_count": 48,
   "metadata": {},
   "outputs": [
    {
     "name": "stdout",
     "output_type": "stream",
     "text": [
      "median of Versicolor is\n",
      "median of Setosa is\n",
      "median of Virginica is\n"
     ]
    }
   ],
   "source": [
    "species = [     ['Versicolor' ,versicolor['petal_length']], ['Setosa', setosa['petal_length']], ['Virginica', virginica['petal_length']]  ]\n",
    "\n",
    "for x in species:\n",
    "    print(f'median of {x[0]} is')\n",
    "    \n",
    "    \n",
    "    \n",
    "    \n",
    "    \n"
   ]
  },
  {
   "cell_type": "markdown",
   "metadata": {},
   "source": [
    "## Compare Boxplots to Alternatives\n",
    "\n",
    "Think of appropriate alternatives"
   ]
  },
  {
   "cell_type": "markdown",
   "metadata": {},
   "source": [
    "## Conclusion"
   ]
  },
  {
   "cell_type": "markdown",
   "metadata": {
    "collapsed": true
   },
   "source": [
    "## Explanation of terminogy\n",
    "\n",
    "The data is displayed based on a five number summary:\n",
    "\n",
    "**Minimum** - This is the lowest value in the dataset.\n",
    "\n",
    "**Maximum** This is the highest value in the dataset.\n",
    "\n",
    "**Median** - The median is the middle value in a (sorted) data series. For for an data series with an even number of values, \n",
    "the median is the average of the two middle values. The median can also be referred to as the **2nd quartile**.\n",
    "\n",
    "**Interquartile range** - This is the middle 50% of values.  As a measure of spread, the interquartile range is calculated by subtracting the 3rd Quartile for from the first **(Q3 - Q1)**\n",
    "\n",
    "**1st quartile (Q1)** - This is the lower point of the interquartile range. It is the median of the lower half of the dataset.\n",
    "\n",
    "**3rd quartile (Q3)** This is the upper point of the interquartile range and is the median of the upper half of the dataset.\n",
    "\n",
    "**Percentile ** This is a measure used in statistics indicating the value below which a given percentage of observations in a dataset falls. For example, the 20th percentile is the value below which 20% of the observations may be found. \n",
    "\n",
    "**Outliers** In implementations where the whiskers do not represent the maximum and minimum values of the dataset, outliers are values that lie beyond the range between the two whiskers and are plotted seperately. "
   ]
  },
  {
   "cell_type": "markdown",
   "metadata": {},
   "source": [
    "### References\n",
    "\n",
    "Data source:\n",
    "Iris dataset:\n",
    "\n",
    "\n",
    "\n",
    "* Matplotlib Boxplot Tutorial (2012) https://matplotlib.org/api/_as_gen/matplotlib.pyplot.boxplot.html (accessed 17/11/2018)\n",
    "* Galarnyk, J., (2018)  \"Boxplots\", https://towardsdatascience.com/understanding-boxplots-5e2df7bcbd51 (accessed 17/11/2018)\n",
    "* Wikipedia, (2018) \"Boxplots\" https://en.wikipedia.org/wiki/Box_plot (accessed 17/11/2018)\n",
    "* The Open University (2010) *MU 123 Discovering Mathematics* (Books A and D) Open University, Milton Keynes\n",
    "* Stryjewski, L and Wickham, H (2011) \"40 Years of Boxplots\", http://vita.had.co.nz/papers/boxplots.pdf"
   ]
  },
  {
   "cell_type": "code",
   "execution_count": null,
   "metadata": {
    "collapsed": true
   },
   "outputs": [],
   "source": []
  }
 ],
 "metadata": {
  "kernelspec": {
   "display_name": "Python 3",
   "language": "python",
   "name": "python3"
  },
  "language_info": {
   "codemirror_mode": {
    "name": "ipython",
    "version": 3
   },
   "file_extension": ".py",
   "mimetype": "text/x-python",
   "name": "python",
   "nbconvert_exporter": "python",
   "pygments_lexer": "ipython3",
   "version": "3.6.3"
  }
 },
 "nbformat": 4,
 "nbformat_minor": 2
}
